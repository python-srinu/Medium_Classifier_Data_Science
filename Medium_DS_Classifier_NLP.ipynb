{
 "cells": [
  {
   "cell_type": "code",
   "execution_count": 2,
   "id": "c1d6e158",
   "metadata": {},
   "outputs": [],
   "source": [
    "from huggingface_hub import hf_hub_download\n",
    "import pandas as pd\n",
    "from sklearn.model_selection import train_test_split\n",
    "from sklearn.feature_extraction.text import CountVectorizer\n",
    "from sklearn.linear_model import LogisticRegression\n",
    "from sklearn.metrics import (classification_report, confusion_matrix, ConfusionMatrixDisplay)"
   ]
  },
  {
   "cell_type": "code",
   "execution_count": 3,
   "id": "d624cac2",
   "metadata": {},
   "outputs": [
    {
     "data": {
      "application/vnd.jupyter.widget-view+json": {
       "model_id": "01c9186b2c574fe79e746147e1d568de",
       "version_major": 2,
       "version_minor": 0
      },
      "text/plain": [
       "medium_articles.csv:   0%|          | 0.00/1.04G [00:00<?, ?B/s]"
      ]
     },
     "metadata": {},
     "output_type": "display_data"
    },
    {
     "name": "stderr",
     "output_type": "stream",
     "text": [
      "C:\\Users\\srinivasareddyb\\anaconda3\\Lib\\site-packages\\huggingface_hub\\file_download.py:139: UserWarning: `huggingface_hub` cache-system uses symlinks by default to efficiently store duplicated files but your machine does not support them in C:\\Users\\srinivasareddyb\\.cache\\huggingface\\hub\\datasets--fabiochiu--medium-articles. Caching files will still work but in a degraded version that might require more space on your disk. This warning can be disabled by setting the `HF_HUB_DISABLE_SYMLINKS_WARNING` environment variable. For more details, see https://huggingface.co/docs/huggingface_hub/how-to-cache#limitations.\n",
      "To support symlinks on Windows, you either need to activate Developer Mode or to run Python as an administrator. In order to activate developer mode, see this article: https://docs.microsoft.com/en-us/windows/apps/get-started/enable-your-device-for-development\n",
      "  warnings.warn(message)\n"
     ]
    },
    {
     "data": {
      "text/html": [
       "<div>\n",
       "<style scoped>\n",
       "    .dataframe tbody tr th:only-of-type {\n",
       "        vertical-align: middle;\n",
       "    }\n",
       "\n",
       "    .dataframe tbody tr th {\n",
       "        vertical-align: top;\n",
       "    }\n",
       "\n",
       "    .dataframe thead th {\n",
       "        text-align: right;\n",
       "    }\n",
       "</style>\n",
       "<table border=\"1\" class=\"dataframe\">\n",
       "  <thead>\n",
       "    <tr style=\"text-align: right;\">\n",
       "      <th></th>\n",
       "      <th>title</th>\n",
       "      <th>text</th>\n",
       "      <th>url</th>\n",
       "      <th>authors</th>\n",
       "      <th>timestamp</th>\n",
       "      <th>tags</th>\n",
       "    </tr>\n",
       "  </thead>\n",
       "  <tbody>\n",
       "    <tr>\n",
       "      <th>0</th>\n",
       "      <td>Mental Note Vol. 24</td>\n",
       "      <td>Photo by Josh Riemer on Unsplash\\n\\nMerry Chri...</td>\n",
       "      <td>https://medium.com/invisible-illness/mental-no...</td>\n",
       "      <td>['Ryan Fan']</td>\n",
       "      <td>2020-12-26 03:38:10.479000+00:00</td>\n",
       "      <td>['Mental Health', 'Health', 'Psychology', 'Sci...</td>\n",
       "    </tr>\n",
       "    <tr>\n",
       "      <th>1</th>\n",
       "      <td>Your Brain On Coronavirus</td>\n",
       "      <td>Your Brain On Coronavirus\\n\\nA guide to the cu...</td>\n",
       "      <td>https://medium.com/age-of-awareness/how-the-pa...</td>\n",
       "      <td>['Simon Spichak']</td>\n",
       "      <td>2020-09-23 22:10:17.126000+00:00</td>\n",
       "      <td>['Mental Health', 'Coronavirus', 'Science', 'P...</td>\n",
       "    </tr>\n",
       "    <tr>\n",
       "      <th>2</th>\n",
       "      <td>Mind Your Nose</td>\n",
       "      <td>Mind Your Nose\\n\\nHow smell training can chang...</td>\n",
       "      <td>https://medium.com/neodotlife/mind-your-nose-f...</td>\n",
       "      <td>[]</td>\n",
       "      <td>2020-10-10 20:17:37.132000+00:00</td>\n",
       "      <td>['Biotechnology', 'Neuroscience', 'Brain', 'We...</td>\n",
       "    </tr>\n",
       "    <tr>\n",
       "      <th>3</th>\n",
       "      <td>The 4 Purposes of Dreams</td>\n",
       "      <td>Passionate about the synergy between science a...</td>\n",
       "      <td>https://medium.com/science-for-real/the-4-purp...</td>\n",
       "      <td>['Eshan Samaranayake']</td>\n",
       "      <td>2020-12-21 16:05:19.524000+00:00</td>\n",
       "      <td>['Health', 'Neuroscience', 'Mental Health', 'P...</td>\n",
       "    </tr>\n",
       "    <tr>\n",
       "      <th>4</th>\n",
       "      <td>Surviving a Rod Through the Head</td>\n",
       "      <td>You’ve heard of him, haven’t you? Phineas Gage...</td>\n",
       "      <td>https://medium.com/live-your-life-on-purpose/s...</td>\n",
       "      <td>['Rishav Sinha']</td>\n",
       "      <td>2020-02-26 00:01:01.576000+00:00</td>\n",
       "      <td>['Brain', 'Health', 'Development', 'Psychology...</td>\n",
       "    </tr>\n",
       "  </tbody>\n",
       "</table>\n",
       "</div>"
      ],
      "text/plain": [
       "                              title  \\\n",
       "0               Mental Note Vol. 24   \n",
       "1         Your Brain On Coronavirus   \n",
       "2                    Mind Your Nose   \n",
       "3          The 4 Purposes of Dreams   \n",
       "4  Surviving a Rod Through the Head   \n",
       "\n",
       "                                                text  \\\n",
       "0  Photo by Josh Riemer on Unsplash\\n\\nMerry Chri...   \n",
       "1  Your Brain On Coronavirus\\n\\nA guide to the cu...   \n",
       "2  Mind Your Nose\\n\\nHow smell training can chang...   \n",
       "3  Passionate about the synergy between science a...   \n",
       "4  You’ve heard of him, haven’t you? Phineas Gage...   \n",
       "\n",
       "                                                 url                 authors  \\\n",
       "0  https://medium.com/invisible-illness/mental-no...            ['Ryan Fan']   \n",
       "1  https://medium.com/age-of-awareness/how-the-pa...       ['Simon Spichak']   \n",
       "2  https://medium.com/neodotlife/mind-your-nose-f...                      []   \n",
       "3  https://medium.com/science-for-real/the-4-purp...  ['Eshan Samaranayake']   \n",
       "4  https://medium.com/live-your-life-on-purpose/s...        ['Rishav Sinha']   \n",
       "\n",
       "                          timestamp  \\\n",
       "0  2020-12-26 03:38:10.479000+00:00   \n",
       "1  2020-09-23 22:10:17.126000+00:00   \n",
       "2  2020-10-10 20:17:37.132000+00:00   \n",
       "3  2020-12-21 16:05:19.524000+00:00   \n",
       "4  2020-02-26 00:01:01.576000+00:00   \n",
       "\n",
       "                                                tags  \n",
       "0  ['Mental Health', 'Health', 'Psychology', 'Sci...  \n",
       "1  ['Mental Health', 'Coronavirus', 'Science', 'P...  \n",
       "2  ['Biotechnology', 'Neuroscience', 'Brain', 'We...  \n",
       "3  ['Health', 'Neuroscience', 'Mental Health', 'P...  \n",
       "4  ['Brain', 'Health', 'Development', 'Psychology...  "
      ]
     },
     "execution_count": 3,
     "metadata": {},
     "output_type": "execute_result"
    }
   ],
   "source": [
    "df_articles = pd.read_csv(hf_hub_download(\"fabiochiu/medium-articles\", repo_type=\"dataset\",\n",
    "                  filename=\"medium_articles.csv\"))\n",
    "df_articles.head()"
   ]
  },
  {
   "cell_type": "code",
   "execution_count": 9,
   "id": "3c7111f8",
   "metadata": {},
   "outputs": [
    {
     "data": {
      "text/plain": [
       "Index(['title', 'text', 'url', 'authors', 'timestamp', 'tags'], dtype='object')"
      ]
     },
     "execution_count": 9,
     "metadata": {},
     "output_type": "execute_result"
    }
   ],
   "source": [
    "df_articles.columns"
   ]
  },
  {
   "cell_type": "code",
   "execution_count": 10,
   "id": "f20abb7c",
   "metadata": {},
   "outputs": [
    {
     "data": {
      "text/plain": [
       "<bound method IndexOpsMixin.value_counts of 0         https://medium.com/invisible-illness/mental-no...\n",
       "1         https://medium.com/age-of-awareness/how-the-pa...\n",
       "2         https://medium.com/neodotlife/mind-your-nose-f...\n",
       "3         https://medium.com/science-for-real/the-4-purp...\n",
       "4         https://medium.com/live-your-life-on-purpose/s...\n",
       "                                ...                        \n",
       "192363    https://medium.com/@ozneedcleaningau/why-do-yo...\n",
       "192364    https://medium.com/@a198blwt/daily-cleaning-an...\n",
       "192365    https://medium.com/@princegohil/beneficial-adv...\n",
       "192366    https://medium.com/@lifeinromania/how-i-learne...\n",
       "192367    https://medium.com/toshuo/trying-pimsleur-cant...\n",
       "Name: url, Length: 192368, dtype: object>"
      ]
     },
     "execution_count": 10,
     "metadata": {},
     "output_type": "execute_result"
    }
   ],
   "source": [
    "df_articles['url'].value_counts"
   ]
  },
  {
   "cell_type": "code",
   "execution_count": 14,
   "id": "9a1cd3dc",
   "metadata": {},
   "outputs": [
    {
     "data": {
      "text/html": [
       "<div>\n",
       "<style scoped>\n",
       "    .dataframe tbody tr th:only-of-type {\n",
       "        vertical-align: middle;\n",
       "    }\n",
       "\n",
       "    .dataframe tbody tr th {\n",
       "        vertical-align: top;\n",
       "    }\n",
       "\n",
       "    .dataframe thead th {\n",
       "        text-align: right;\n",
       "    }\n",
       "</style>\n",
       "<table border=\"1\" class=\"dataframe\">\n",
       "  <thead>\n",
       "    <tr style=\"text-align: right;\">\n",
       "      <th></th>\n",
       "      <th>title</th>\n",
       "      <th>text</th>\n",
       "      <th>url</th>\n",
       "      <th>authors</th>\n",
       "      <th>timestamp</th>\n",
       "      <th>tags</th>\n",
       "      <th>is_data_science</th>\n",
       "      <th>full_text</th>\n",
       "    </tr>\n",
       "  </thead>\n",
       "  <tbody>\n",
       "    <tr>\n",
       "      <th>0</th>\n",
       "      <td>Mental Note Vol. 24</td>\n",
       "      <td>Photo by Josh Riemer on Unsplash\\n\\nMerry Chri...</td>\n",
       "      <td>https://medium.com/invisible-illness/mental-no...</td>\n",
       "      <td>['Ryan Fan']</td>\n",
       "      <td>2020-12-26 03:38:10.479000+00:00</td>\n",
       "      <td>['Mental Health', 'Health', 'Psychology', 'Sci...</td>\n",
       "      <td>False</td>\n",
       "      <td>Mental Note Vol. 24 Photo by Josh Riemer on Un...</td>\n",
       "    </tr>\n",
       "    <tr>\n",
       "      <th>1</th>\n",
       "      <td>Your Brain On Coronavirus</td>\n",
       "      <td>Your Brain On Coronavirus\\n\\nA guide to the cu...</td>\n",
       "      <td>https://medium.com/age-of-awareness/how-the-pa...</td>\n",
       "      <td>['Simon Spichak']</td>\n",
       "      <td>2020-09-23 22:10:17.126000+00:00</td>\n",
       "      <td>['Mental Health', 'Coronavirus', 'Science', 'P...</td>\n",
       "      <td>False</td>\n",
       "      <td>Your Brain On Coronavirus Your Brain On Corona...</td>\n",
       "    </tr>\n",
       "    <tr>\n",
       "      <th>2</th>\n",
       "      <td>Mind Your Nose</td>\n",
       "      <td>Mind Your Nose\\n\\nHow smell training can chang...</td>\n",
       "      <td>https://medium.com/neodotlife/mind-your-nose-f...</td>\n",
       "      <td>[]</td>\n",
       "      <td>2020-10-10 20:17:37.132000+00:00</td>\n",
       "      <td>['Biotechnology', 'Neuroscience', 'Brain', 'We...</td>\n",
       "      <td>False</td>\n",
       "      <td>Mind Your Nose Mind Your Nose\\n\\nHow smell tra...</td>\n",
       "    </tr>\n",
       "    <tr>\n",
       "      <th>3</th>\n",
       "      <td>The 4 Purposes of Dreams</td>\n",
       "      <td>Passionate about the synergy between science a...</td>\n",
       "      <td>https://medium.com/science-for-real/the-4-purp...</td>\n",
       "      <td>['Eshan Samaranayake']</td>\n",
       "      <td>2020-12-21 16:05:19.524000+00:00</td>\n",
       "      <td>['Health', 'Neuroscience', 'Mental Health', 'P...</td>\n",
       "      <td>False</td>\n",
       "      <td>The 4 Purposes of Dreams Passionate about the ...</td>\n",
       "    </tr>\n",
       "    <tr>\n",
       "      <th>4</th>\n",
       "      <td>Surviving a Rod Through the Head</td>\n",
       "      <td>You’ve heard of him, haven’t you? Phineas Gage...</td>\n",
       "      <td>https://medium.com/live-your-life-on-purpose/s...</td>\n",
       "      <td>['Rishav Sinha']</td>\n",
       "      <td>2020-02-26 00:01:01.576000+00:00</td>\n",
       "      <td>['Brain', 'Health', 'Development', 'Psychology...</td>\n",
       "      <td>False</td>\n",
       "      <td>Surviving a Rod Through the Head You’ve heard ...</td>\n",
       "    </tr>\n",
       "  </tbody>\n",
       "</table>\n",
       "</div>"
      ],
      "text/plain": [
       "                              title  \\\n",
       "0               Mental Note Vol. 24   \n",
       "1         Your Brain On Coronavirus   \n",
       "2                    Mind Your Nose   \n",
       "3          The 4 Purposes of Dreams   \n",
       "4  Surviving a Rod Through the Head   \n",
       "\n",
       "                                                text  \\\n",
       "0  Photo by Josh Riemer on Unsplash\\n\\nMerry Chri...   \n",
       "1  Your Brain On Coronavirus\\n\\nA guide to the cu...   \n",
       "2  Mind Your Nose\\n\\nHow smell training can chang...   \n",
       "3  Passionate about the synergy between science a...   \n",
       "4  You’ve heard of him, haven’t you? Phineas Gage...   \n",
       "\n",
       "                                                 url                 authors  \\\n",
       "0  https://medium.com/invisible-illness/mental-no...            ['Ryan Fan']   \n",
       "1  https://medium.com/age-of-awareness/how-the-pa...       ['Simon Spichak']   \n",
       "2  https://medium.com/neodotlife/mind-your-nose-f...                      []   \n",
       "3  https://medium.com/science-for-real/the-4-purp...  ['Eshan Samaranayake']   \n",
       "4  https://medium.com/live-your-life-on-purpose/s...        ['Rishav Sinha']   \n",
       "\n",
       "                          timestamp  \\\n",
       "0  2020-12-26 03:38:10.479000+00:00   \n",
       "1  2020-09-23 22:10:17.126000+00:00   \n",
       "2  2020-10-10 20:17:37.132000+00:00   \n",
       "3  2020-12-21 16:05:19.524000+00:00   \n",
       "4  2020-02-26 00:01:01.576000+00:00   \n",
       "\n",
       "                                                tags  is_data_science  \\\n",
       "0  ['Mental Health', 'Health', 'Psychology', 'Sci...            False   \n",
       "1  ['Mental Health', 'Coronavirus', 'Science', 'P...            False   \n",
       "2  ['Biotechnology', 'Neuroscience', 'Brain', 'We...            False   \n",
       "3  ['Health', 'Neuroscience', 'Mental Health', 'P...            False   \n",
       "4  ['Brain', 'Health', 'Development', 'Psychology...            False   \n",
       "\n",
       "                                           full_text  \n",
       "0  Mental Note Vol. 24 Photo by Josh Riemer on Un...  \n",
       "1  Your Brain On Coronavirus Your Brain On Corona...  \n",
       "2  Mind Your Nose Mind Your Nose\\n\\nHow smell tra...  \n",
       "3  The 4 Purposes of Dreams Passionate about the ...  \n",
       "4  Surviving a Rod Through the Head You’ve heard ...  "
      ]
     },
     "execution_count": 14,
     "metadata": {},
     "output_type": "execute_result"
    }
   ],
   "source": [
    "df_articles['is_data_science'] = df_articles[\"tags\"].apply(lambda tags_list: \"Data Science\" in tags_list)\n",
    "df_articles['full_text'] = df_articles[\"title\"] + \" \" + df_articles[\"text\"]\n",
    "df_articles.head()"
   ]
  },
  {
   "cell_type": "code",
   "execution_count": 15,
   "id": "dc2b53d7",
   "metadata": {},
   "outputs": [],
   "source": [
    "df = pd.concat([\n",
    "    df_articles[df_articles[\"is_data_science\"]].sample(n=1000),\n",
    "    df_articles[~df_articles[\"is_data_science\"]].sample(n=1000),\n",
    "               ])"
   ]
  },
  {
   "cell_type": "code",
   "execution_count": 16,
   "id": "1aa3cc0b",
   "metadata": {},
   "outputs": [
    {
     "data": {
      "text/html": [
       "<div>\n",
       "<style scoped>\n",
       "    .dataframe tbody tr th:only-of-type {\n",
       "        vertical-align: middle;\n",
       "    }\n",
       "\n",
       "    .dataframe tbody tr th {\n",
       "        vertical-align: top;\n",
       "    }\n",
       "\n",
       "    .dataframe thead th {\n",
       "        text-align: right;\n",
       "    }\n",
       "</style>\n",
       "<table border=\"1\" class=\"dataframe\">\n",
       "  <thead>\n",
       "    <tr style=\"text-align: right;\">\n",
       "      <th></th>\n",
       "      <th>title</th>\n",
       "      <th>text</th>\n",
       "      <th>url</th>\n",
       "      <th>authors</th>\n",
       "      <th>timestamp</th>\n",
       "      <th>tags</th>\n",
       "      <th>is_data_science</th>\n",
       "      <th>full_text</th>\n",
       "    </tr>\n",
       "  </thead>\n",
       "  <tbody>\n",
       "    <tr>\n",
       "      <th>33710</th>\n",
       "      <td>How to leverage Data Science and Optimization ...</td>\n",
       "      <td>Problem Statement &amp; Objective\\n\\nIn my example...</td>\n",
       "      <td>https://medium.com/the-innovation/how-to-lever...</td>\n",
       "      <td>['Vikas Garg']</td>\n",
       "      <td>2020-10-20 17:24:59.241000+00:00</td>\n",
       "      <td>['Operations Research', 'Supply Chain', 'Optim...</td>\n",
       "      <td>True</td>\n",
       "      <td>How to leverage Data Science and Optimization ...</td>\n",
       "    </tr>\n",
       "    <tr>\n",
       "      <th>3961</th>\n",
       "      <td>Using Machine Learning to Predict Value of Hom...</td>\n",
       "      <td>Introduction\\n\\nData products have always been...</td>\n",
       "      <td>https://medium.com/airbnb-engineering/using-ma...</td>\n",
       "      <td>['Robert Chang']</td>\n",
       "      <td>2017-07-17 16:07:24.185000+00:00</td>\n",
       "      <td>['Machine Learning', 'Data Science', 'AI', 'Te...</td>\n",
       "      <td>True</td>\n",
       "      <td>Using Machine Learning to Predict Value of Hom...</td>\n",
       "    </tr>\n",
       "    <tr>\n",
       "      <th>188747</th>\n",
       "      <td>10 things every aspiring data scientist needs ...</td>\n",
       "      <td>The Harvard article “Data Scientist: The Sexie...</td>\n",
       "      <td>https://towardsdatascience.com/10-things-every...</td>\n",
       "      <td>['Ayodele Oluleye']</td>\n",
       "      <td>2018-02-13 22:23:58.226000+00:00</td>\n",
       "      <td>['Towards Data Science', 'Motivational', 'Data...</td>\n",
       "      <td>True</td>\n",
       "      <td>10 things every aspiring data scientist needs ...</td>\n",
       "    </tr>\n",
       "    <tr>\n",
       "      <th>35223</th>\n",
       "      <td>“ImmoScan” — Unravelling the real estate market</td>\n",
       "      <td>1. Introduction\\n\\nNowadays, real estate plays...</td>\n",
       "      <td>https://medium.com/techlabsms/immoscan-unravel...</td>\n",
       "      <td>[]</td>\n",
       "      <td>2020-09-02 15:10:06.272000+00:00</td>\n",
       "      <td>['Real Estate', 'Web App Development', 'Data S...</td>\n",
       "      <td>True</td>\n",
       "      <td>“ImmoScan” — Unravelling the real estate marke...</td>\n",
       "    </tr>\n",
       "    <tr>\n",
       "      <th>19279</th>\n",
       "      <td>Types of Ensemble methods in Machine learning.</td>\n",
       "      <td>In my previous article, we discussed about the...</td>\n",
       "      <td>https://towardsdatascience.com/types-of-ensemb...</td>\n",
       "      <td>['Anju Rajbangshi']</td>\n",
       "      <td>2020-06-07 14:38:13.176000+00:00</td>\n",
       "      <td>['Machine Learning', 'Data Science', 'Ensemble...</td>\n",
       "      <td>True</td>\n",
       "      <td>Types of Ensemble methods in Machine learning....</td>\n",
       "    </tr>\n",
       "  </tbody>\n",
       "</table>\n",
       "</div>"
      ],
      "text/plain": [
       "                                                    title  \\\n",
       "33710   How to leverage Data Science and Optimization ...   \n",
       "3961    Using Machine Learning to Predict Value of Hom...   \n",
       "188747  10 things every aspiring data scientist needs ...   \n",
       "35223     “ImmoScan” — Unravelling the real estate market   \n",
       "19279      Types of Ensemble methods in Machine learning.   \n",
       "\n",
       "                                                     text  \\\n",
       "33710   Problem Statement & Objective\\n\\nIn my example...   \n",
       "3961    Introduction\\n\\nData products have always been...   \n",
       "188747  The Harvard article “Data Scientist: The Sexie...   \n",
       "35223   1. Introduction\\n\\nNowadays, real estate plays...   \n",
       "19279   In my previous article, we discussed about the...   \n",
       "\n",
       "                                                      url  \\\n",
       "33710   https://medium.com/the-innovation/how-to-lever...   \n",
       "3961    https://medium.com/airbnb-engineering/using-ma...   \n",
       "188747  https://towardsdatascience.com/10-things-every...   \n",
       "35223   https://medium.com/techlabsms/immoscan-unravel...   \n",
       "19279   https://towardsdatascience.com/types-of-ensemb...   \n",
       "\n",
       "                    authors                         timestamp  \\\n",
       "33710        ['Vikas Garg']  2020-10-20 17:24:59.241000+00:00   \n",
       "3961       ['Robert Chang']  2017-07-17 16:07:24.185000+00:00   \n",
       "188747  ['Ayodele Oluleye']  2018-02-13 22:23:58.226000+00:00   \n",
       "35223                    []  2020-09-02 15:10:06.272000+00:00   \n",
       "19279   ['Anju Rajbangshi']  2020-06-07 14:38:13.176000+00:00   \n",
       "\n",
       "                                                     tags  is_data_science  \\\n",
       "33710   ['Operations Research', 'Supply Chain', 'Optim...             True   \n",
       "3961    ['Machine Learning', 'Data Science', 'AI', 'Te...             True   \n",
       "188747  ['Towards Data Science', 'Motivational', 'Data...             True   \n",
       "35223   ['Real Estate', 'Web App Development', 'Data S...             True   \n",
       "19279   ['Machine Learning', 'Data Science', 'Ensemble...             True   \n",
       "\n",
       "                                                full_text  \n",
       "33710   How to leverage Data Science and Optimization ...  \n",
       "3961    Using Machine Learning to Predict Value of Hom...  \n",
       "188747  10 things every aspiring data scientist needs ...  \n",
       "35223   “ImmoScan” — Unravelling the real estate marke...  \n",
       "19279   Types of Ensemble methods in Machine learning....  "
      ]
     },
     "execution_count": 16,
     "metadata": {},
     "output_type": "execute_result"
    }
   ],
   "source": [
    "df.head()"
   ]
  },
  {
   "cell_type": "code",
   "execution_count": 17,
   "id": "710e2337",
   "metadata": {},
   "outputs": [],
   "source": [
    "X = df[[\"full_text\"]]\n",
    "y = df[\"is_data_science\"]\n",
    "X_train, X_test, y_train, y_test = train_test_split(X, y, test_size=0.2, random_state = 42, stratify = y)"
   ]
  },
  {
   "cell_type": "code",
   "execution_count": 18,
   "id": "13f9e794",
   "metadata": {},
   "outputs": [
    {
     "name": "stderr",
     "output_type": "stream",
     "text": [
      "C:\\Users\\srinivasareddyb\\anaconda3\\Lib\\site-packages\\sklearn\\linear_model\\_logistic.py:458: ConvergenceWarning: lbfgs failed to converge (status=1):\n",
      "STOP: TOTAL NO. of ITERATIONS REACHED LIMIT.\n",
      "\n",
      "Increase the number of iterations (max_iter) or scale the data as shown in:\n",
      "    https://scikit-learn.org/stable/modules/preprocessing.html\n",
      "Please also refer to the documentation for alternative solver options:\n",
      "    https://scikit-learn.org/stable/modules/linear_model.html#logistic-regression\n",
      "  n_iter_i = _check_optimize_result(\n"
     ]
    },
    {
     "data": {
      "text/html": [
       "<style>#sk-container-id-1 {color: black;background-color: white;}#sk-container-id-1 pre{padding: 0;}#sk-container-id-1 div.sk-toggleable {background-color: white;}#sk-container-id-1 label.sk-toggleable__label {cursor: pointer;display: block;width: 100%;margin-bottom: 0;padding: 0.3em;box-sizing: border-box;text-align: center;}#sk-container-id-1 label.sk-toggleable__label-arrow:before {content: \"▸\";float: left;margin-right: 0.25em;color: #696969;}#sk-container-id-1 label.sk-toggleable__label-arrow:hover:before {color: black;}#sk-container-id-1 div.sk-estimator:hover label.sk-toggleable__label-arrow:before {color: black;}#sk-container-id-1 div.sk-toggleable__content {max-height: 0;max-width: 0;overflow: hidden;text-align: left;background-color: #f0f8ff;}#sk-container-id-1 div.sk-toggleable__content pre {margin: 0.2em;color: black;border-radius: 0.25em;background-color: #f0f8ff;}#sk-container-id-1 input.sk-toggleable__control:checked~div.sk-toggleable__content {max-height: 200px;max-width: 100%;overflow: auto;}#sk-container-id-1 input.sk-toggleable__control:checked~label.sk-toggleable__label-arrow:before {content: \"▾\";}#sk-container-id-1 div.sk-estimator input.sk-toggleable__control:checked~label.sk-toggleable__label {background-color: #d4ebff;}#sk-container-id-1 div.sk-label input.sk-toggleable__control:checked~label.sk-toggleable__label {background-color: #d4ebff;}#sk-container-id-1 input.sk-hidden--visually {border: 0;clip: rect(1px 1px 1px 1px);clip: rect(1px, 1px, 1px, 1px);height: 1px;margin: -1px;overflow: hidden;padding: 0;position: absolute;width: 1px;}#sk-container-id-1 div.sk-estimator {font-family: monospace;background-color: #f0f8ff;border: 1px dotted black;border-radius: 0.25em;box-sizing: border-box;margin-bottom: 0.5em;}#sk-container-id-1 div.sk-estimator:hover {background-color: #d4ebff;}#sk-container-id-1 div.sk-parallel-item::after {content: \"\";width: 100%;border-bottom: 1px solid gray;flex-grow: 1;}#sk-container-id-1 div.sk-label:hover label.sk-toggleable__label {background-color: #d4ebff;}#sk-container-id-1 div.sk-serial::before {content: \"\";position: absolute;border-left: 1px solid gray;box-sizing: border-box;top: 0;bottom: 0;left: 50%;z-index: 0;}#sk-container-id-1 div.sk-serial {display: flex;flex-direction: column;align-items: center;background-color: white;padding-right: 0.2em;padding-left: 0.2em;position: relative;}#sk-container-id-1 div.sk-item {position: relative;z-index: 1;}#sk-container-id-1 div.sk-parallel {display: flex;align-items: stretch;justify-content: center;background-color: white;position: relative;}#sk-container-id-1 div.sk-item::before, #sk-container-id-1 div.sk-parallel-item::before {content: \"\";position: absolute;border-left: 1px solid gray;box-sizing: border-box;top: 0;bottom: 0;left: 50%;z-index: -1;}#sk-container-id-1 div.sk-parallel-item {display: flex;flex-direction: column;z-index: 1;position: relative;background-color: white;}#sk-container-id-1 div.sk-parallel-item:first-child::after {align-self: flex-end;width: 50%;}#sk-container-id-1 div.sk-parallel-item:last-child::after {align-self: flex-start;width: 50%;}#sk-container-id-1 div.sk-parallel-item:only-child::after {width: 0;}#sk-container-id-1 div.sk-dashed-wrapped {border: 1px dashed gray;margin: 0 0.4em 0.5em 0.4em;box-sizing: border-box;padding-bottom: 0.4em;background-color: white;}#sk-container-id-1 div.sk-label label {font-family: monospace;font-weight: bold;display: inline-block;line-height: 1.2em;}#sk-container-id-1 div.sk-label-container {text-align: center;}#sk-container-id-1 div.sk-container {/* jupyter's `normalize.less` sets `[hidden] { display: none; }` but bootstrap.min.css set `[hidden] { display: none !important; }` so we also need the `!important` here to be able to override the default hidden behavior on the sphinx rendered scikit-learn.org. See: https://github.com/scikit-learn/scikit-learn/issues/21755 */display: inline-block !important;position: relative;}#sk-container-id-1 div.sk-text-repr-fallback {display: none;}</style><div id=\"sk-container-id-1\" class=\"sk-top-container\"><div class=\"sk-text-repr-fallback\"><pre>LogisticRegression()</pre><b>In a Jupyter environment, please rerun this cell to show the HTML representation or trust the notebook. <br />On GitHub, the HTML representation is unable to render, please try loading this page with nbviewer.org.</b></div><div class=\"sk-container\" hidden><div class=\"sk-item\"><div class=\"sk-estimator sk-toggleable\"><input class=\"sk-toggleable__control sk-hidden--visually\" id=\"sk-estimator-id-1\" type=\"checkbox\" checked><label for=\"sk-estimator-id-1\" class=\"sk-toggleable__label sk-toggleable__label-arrow\">LogisticRegression</label><div class=\"sk-toggleable__content\"><pre>LogisticRegression()</pre></div></div></div></div></div>"
      ],
      "text/plain": [
       "LogisticRegression()"
      ]
     },
     "execution_count": 18,
     "metadata": {},
     "output_type": "execute_result"
    }
   ],
   "source": [
    "vectorizer = CountVectorizer(ngram_range=(1,1))\n",
    "full_texts_vectorized = vectorizer.fit_transform(X_train[\"full_text\"])\n",
    "model = LogisticRegression()\n",
    "model.fit(full_texts_vectorized, y_train)"
   ]
  },
  {
   "cell_type": "code",
   "execution_count": 19,
   "id": "f4d6b4b7",
   "metadata": {},
   "outputs": [],
   "source": [
    "full_texts_vectorized = vectorizer.transform(X_test[\"full_text\"])\n",
    "predictions = model.predict(full_texts_vectorized)"
   ]
  },
  {
   "cell_type": "code",
   "execution_count": 20,
   "id": "f19aac4f",
   "metadata": {},
   "outputs": [
    {
     "name": "stdout",
     "output_type": "stream",
     "text": [
      "              precision    recall  f1-score   support\n",
      "\n",
      "       False       0.85      0.93      0.89       200\n",
      "        True       0.92      0.83      0.88       200\n",
      "\n",
      "    accuracy                           0.88       400\n",
      "   macro avg       0.89      0.88      0.88       400\n",
      "weighted avg       0.89      0.88      0.88       400\n",
      "\n"
     ]
    }
   ],
   "source": [
    "print(classification_report(y_test, predictions))"
   ]
  },
  {
   "cell_type": "code",
   "execution_count": 21,
   "id": "34883032",
   "metadata": {},
   "outputs": [
    {
     "data": {
      "image/png": "[encoded data removed]",
      "text/plain": [
       "<Figure size 640x480 with 2 Axes>"
      ]
     },
     "metadata": {},
     "output_type": "display_data"
    }
   ],
   "source": [
    "cm = confusion_matrix(y_test, predictions, labels=model.classes_)\n",
    "disp = ConfusionMatrixDisplay(confusion_matrix=cm,\n",
    "                              display_labels=[\"No Data Science\", \"Data Science\"])\n",
    "p = disp.plot()\n",
    "fig = p.figure_\n",
    "fig.set_facecolor('white')"
   ]
  },
  {
   "cell_type": "code",
   "execution_count": 22,
   "id": "704bf667",
   "metadata": {},
   "outputs": [
    {
     "data": {
      "text/plain": [
       "[('de', 0.8501640787553004),\n",
       " ('python', 0.7605288851252814),\n",
       " ('science', 0.6340539433081998),\n",
       " ('metadatos', 0.5112956374716778),\n",
       " ('píldoras', 0.5112956374716778),\n",
       " ('receta', 0.5112956374716778),\n",
       " ('sequel', 0.5023943876519797),\n",
       " ('data', 0.4760365667951744),\n",
       " ('hmmlearn', 0.474795923548407),\n",
       " ('machine', 0.451982635906341),\n",
       " ('charts', 0.4311121729287873),\n",
       " ('scratch', 0.4296874903817363),\n",
       " ('analysis', 0.41892706069780017),\n",
       " ('linear', 0.4115475129780072),\n",
       " ('follow', 0.40617563949340396),\n",
       " ('basit', 0.3769486932679196),\n",
       " ('ile', 0.3769486932679196),\n",
       " ('grafiti', 0.37448100994290734),\n",
       " ('graphs', 0.37202077021132823),\n",
       " ('notebook', 0.3427515874520426)]"
      ]
     },
     "execution_count": 22,
     "metadata": {},
     "output_type": "execute_result"
    }
   ],
   "source": [
    "ngram_indices_sorted = sorted(list(vectorizer.vocabulary_.items()), key=lambda t: t[1])\n",
    "ngram_sorted = list(zip(*ngram_indices_sorted))[0]\n",
    "ngram_weight_pairs = list(zip(ngram_sorted, model.coef_[0]))\n",
    "ngram_weight_pairs_sorted = sorted(ngram_weight_pairs, key=lambda t: t[1], reverse=True)\n",
    "ngram_weight_pairs_sorted[:20]"
   ]
  },
  {
   "cell_type": "code",
   "execution_count": 23,
   "id": "c9560fc9",
   "metadata": {},
   "outputs": [],
   "source": [
    "def predict_is_data_science(sample_text):\n",
    "    \"\"\"Predict if the given sample text is related to data science.\"\"\"\n",
    "    text_vectorized = vectorizer.transform([sample_text])\n",
    "    prediction = model.predict(text_vectorized)\n",
    "    return bool(prediction[0])"
   ]
  },
  {
   "cell_type": "code",
   "execution_count": 27,
   "id": "0293a9b2",
   "metadata": {},
   "outputs": [
    {
     "name": "stdout",
     "output_type": "stream",
     "text": [
      "True\n"
     ]
    }
   ],
   "source": [
    "# Example usage\n",
    "sample_text = \"This article discusses Python libraries for data analysis and machine learning.\"\n",
    "print(predict_is_data_science(sample_text)) "
   ]
  },
  {
   "cell_type": "code",
   "execution_count": null,
   "id": "47fc6794",
   "metadata": {},
   "outputs": [],
   "source": []
  }
 ],
 "metadata": {
  "kernelspec": {
   "display_name": "Python 3 (ipykernel)",
   "language": "python",
   "name": "python3"
  },
  "language_info": {
   "codemirror_mode": {
    "name": "ipython",
    "version": 3
   },
   "file_extension": ".py",
   "mimetype": "text/x-python",
   "name": "python",
   "nbconvert_exporter": "python",
   "pygments_lexer": "ipython3",
   "version": "3.11.3"
  }
 },
 "nbformat": 4,
 "nbformat_minor": 5
}
